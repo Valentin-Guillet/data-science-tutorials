{
 "cells": [
  {
   "cell_type": "markdown",
   "metadata": {},
   "source": [
    "# Transformers\n",
    "\n",
    "The goal of this module is to understand the **Transformer architecture** from its core component: the **Self-Attention mechanism**. Grasping this architecture is essential for comprehending state-of-the-art models in Natural Language Processing (NLP), including the Large Language Models (LLMs) driving recent advances.\n",
    "\n",
    "### Text Processing with Tokens\n",
    "\n",
    "Before a Transformer model can process any text, the raw string must be converted into a numerical sequence of inputs that the model understands. This process is called **tokenization**, and the resulting numerical units are **tokens**.\n",
    "\n",
    "A **token** is the fundamental unit of text: it is the smallest block of text that is passed to a model. Tokens serve two purposes:\n",
    "1.  **Semantic Unit:** They represent meaningful chunks of language, such as words, punctuation, or parts of a word.\n",
    "2.  **Numerical ID:** Each unique token is mapped to a unique integer ID, which is then used to look up its corresponding **embedding vector** (the dense numerical representation fed into the Transformer).\n",
    "\n",
    "#### How are Tokens Computed\n",
    "\n",
    "Modern NLP uses sophisticated tokenization methods that strike a balance between vocabulary size and sequence length.\n",
    "\n",
    "- **Word-Level Tokenization:** The simplest approach splits text by spaces, treating each word as a token.\n",
    "    * *Problem:* Leads to a massive vocabulary (e.g., one token for \"run,\" another for \"running,\" another for \"runs\").\n",
    "- **Character-Level Tokenization:** Splits text into individual characters.\n",
    "    * *Problem:* Generates very long input sequences, making the Transformer less efficient.\n",
    "- **Subword Tokenization (The Standard):** This approach used by most LLMs (like GPT or BERT) solves both problems via methods like [**Byte Pair Encoding (BPE)**](https://en.wikipedia.org/wiki/Byte-pair_encoding) or [**WordPiece**](https://huggingface.co/learn/llm-course/en/chapter6/6):\n",
    "    1.  **Splitting:** Common words (like \"the,\" \"is\") are treated as single tokens.\n",
    "    2.  **Breaking Down:** Rare or complex words are broken down into common subword units. For example, \"unbelievable\" might be tokenized as \\[\"un\", \"believ\", \"able\"\\].\n",
    "\n",
    "This subword approach ensures that every word can be represented (even misspelled or rare words) without the vocabulary size exploding, and it keeps sequence lengths manageable.\n",
    "\n",
    "#### Token to Embedding\n",
    "\n",
    "Once the text is tokenized:\n",
    "\n",
    "1.  The sequence of text tokens is converted into a sequence of integer IDs.\n",
    "2.  These IDs are passed to the model's **Embedding Layer**, which acts as a lookup table mapping tokens to $\\mathbf{d}_{model}$-dimensional vectors called embeddings.\n",
    "3.  The layer returns the corresponding sequence of embeddings, which form the **Input Matrix ($\\mathbf{X}$)** for the Self-Attention mechanism."
   ]
  },
  {
   "cell_type": "markdown",
   "metadata": {},
   "source": [
    "## Self-Attention Mechanism\n",
    "\n",
    "**Self-Attention** is a mechanism that allows a model to weigh the importance and relevance of **all other elements** in an input sequence when encoding a single element. It is a powerful way for the model to capture context and dependencies regardless of the distance between tokens in the sequence.\n",
    "\n",
    "##### Input representation\n",
    "\n",
    "The input to the Transformer is a sequence of tokens (words, sub-words, etc.), which is then passed through the embedding layer to get the Input Matrix of shape $(n \\times \\mathbf{d}_{model})$.\n",
    "For each output element $\\mathbf{y}_i$, the model then calculates an **attention score** to determine how much information from $\\mathbf{x}_j$ (where $j=1$ to $n$) should flow into $\\mathbf{y}_i$.\n",
    "\n",
    "\n",
    "##### Query, Key and Value vectors\n",
    "\n",
    "For the attention calculation, the input matrix $\\mathbf{X}$ is projected into three distinct, lower-dimensional representation spaces using three separate learned weight matrices: $\\mathbf{W}^{Q}$, $\\mathbf{W}^{K}$, and $\\mathbf{W}^{V}$.\n",
    "\n",
    "- The **Query** vector $\\mathbf{Q} = \\mathbf{X} \\mathbf{W}^{Q}$ of shape $(\\mathbf{d}_{\\text{model}} \\times d_k)$ is used to query or seek context\n",
    "- The **Key** vector $\\mathbf{K} = \\mathbf{X} \\mathbf{W}^{K}$ of shape: $(\\mathbf{d}_{\\text{model}} \\times d_k)$ (same as the query) is used to label or categorize context\n",
    "- The **Value** vector $\\mathbf{V} = \\mathbf{X} \\mathbf{W}^{V}$ of shape: $(\\mathbf{d}_{\\text{model}} \\times d_v)$ contains the actual information to be passed through the network\n",
    "\n",
    "##### Attention score computation\n",
    "\n",
    "The first step in calculating attention is to determine the **relevance** between every query vector ($\\mathbf{q}_i$) and every key vector ($\\mathbf{k}_j$). This is done via a dot product.\n",
    "\n",
    "The matrix of raw attention scores is computed as:\n",
    "\n",
    "$$\\mathbf{A}_{raw} = \\mathbf{Q} \\mathbf{K}^T$$\n",
    "\n",
    "The scores are then divided by the square root of the key dimension, $\\sqrt{d_k}$. This **scaling** prevents the dot products from growing too large, which would push the softmax function into regions where gradients are extremely small (saturation), hindering stable training.\n",
    "\n",
    "$$\\mathbf{A}_{scaled} = \\frac{\\mathbf{Q} \\mathbf{K}^T}{\\sqrt{d_k}}$$\n",
    "\n",
    "The scaled attention scores are then normalized using the **Softmax** function along the sequence dimension (rows of $\\mathbf{A}_{scaled}$). This converts the scores into a probability distribution, ensuring that the weights for any single token sum to 1.\n",
    "\n",
    "$$\\mathbf{A}_{weights} = \\operatorname{softmax}\\left(\\frac{\\mathbf{Q} \\mathbf{K}^T}{\\sqrt{d_k}}\\right)$$\n",
    "\n",
    "The final output is computed by taking the weighted sum of the $\\mathbf{V}$ vectors, using the normalized attention weights ($\\mathbf{A}_{weights}$) as the coefficients.\n",
    "\n",
    "$$\\mathbf{Z} = \\mathbf{A}_{weights} \\mathbf{V}$$\n",
    "\n",
    "The resulting matrix $\\mathbf{Z}$ has the shape $(n \\times d_v)$. Each row $\\mathbf{z}_i$ is the new, context-aware representation of the original token $\\mathbf{x}_i$.\n",
    "\n",
    "Combining the steps, the basic **Scaled Dot-Product Attention** formula is:\n",
    "\n",
    "$$\\text{Attention}(\\mathbf{Q}, \\mathbf{K}, \\mathbf{V}) = \\operatorname{softmax}\\left(\\frac{\\mathbf{Q} \\mathbf{K}^T}{\\sqrt{d_{k}}}\\right) \\mathbf{V}$$"
   ]
  },
  {
   "cell_type": "markdown",
   "metadata": {},
   "source": [
    "## Multi-Head Attention\n",
    "\n",
    "In practice, to allow the model to focus on different types of relationships simultaneously (e.g., syntactical dependency vs. semantic meaning), the attention calculation is parallelized across $h$ different **heads**.\n",
    "\n",
    "1.  **Multiple Projections:** Instead of one set of $\\mathbf{W}^{Q}, \\mathbf{W}^{K}, \\mathbf{W}^{V}$, we use $h$ sets: $\\mathbf{W}^{Q}_i, \\mathbf{W}^{K}_i, \\mathbf{W}^{V}_i$ for $i=1$ to $h$.\n",
    "2.  **Parallel Attention:** Each head $\\text{head}_i$ computes its own attention output $\\mathbf{Z}_i$.\n",
    "3.  **Concatenation & Final Projection:** The outputs from all $h$ heads are concatenated back together and then passed through a final learned linear transformation ($\\mathbf{W}^{O}$) to project the result back into the required output dimension.\n",
    "\n",
    "The formula for the $i$-th head is:\n",
    "$$\\text{head}_i = \\text { Attention }(\\mathbf{X} \\mathbf{W}_{i}^{Q}, \\mathbf{X} \\mathbf{W}_{i}^{K}, \\mathbf{X} \\mathbf{W}_{i}^{V})$$\n",
    "\n",
    "The final **Multi-Head Attention** output is:\n",
    "$MultiHead}(\\mathbf{Q}, \\mathbf{K}, \\mathbf{V})= \\operatorname{Concat}(\\text{head}_1, \\ldots, \\text{head}_h) \\mathbf{W}^{O$\n",
    "\n",
    "<p style=\\\"text-align:center\\\">\n",
    "    <img src=\"https://wikidocs.net/images/page/159310/mha_img_original.png\" alt=\"Multi-head attention mechanism\"/>\n",
    "</p>"
   ]
  },
  {
   "cell_type": "markdown",
   "metadata": {},
   "source": [
    "## The Full Transformer Architecture: Encoder and Decoder\n",
    "\n",
    "The complete Transformer architecture consists of stacked layers of Self-Attention mechanisms and Feed-Forward networks. These layers are organized into two main components: the **Encoder** and the **Decoder**.\n",
    "\n",
    "### Encoder (Contextualization)\n",
    "\n",
    "The **Encoder** is responsible for taking the input sequence (e.g., a sentence) and generating a rich, contextual representation for **every token**.\n",
    "It consists of a stack of identical layers, each containing a **Multi-Head Self-Attention** sub-layer and a Feed-Forward sub-layer.\n",
    "\n",
    "The Encoder processes the input text **bidirectionally**, allowing each token to attend to *all* other tokens (past and future) in the input sequence.\n",
    "\n",
    "### Decoder (Generation)\n",
    "\n",
    "The **Decoder** is responsible for taking the contextualized representation from the Encoder and generating the output sequence one token at a time.\n",
    "Each Decoder layer has three sub-layers: a **Masked Multi-Head Self-Attention** sub-layer, a **Cross-Attention** sub-layer, and a Feed-Forward sub-layer.\n",
    "\n",
    "The Masked Self-Attention ensures the Decoder is **unidirectional** (auto-regressive), meaning it can only attend to tokens it has **already generated** (or the start-of-sequence token). In practice, this is achieved by setting the scaled attention scores to $-\\infty$ before applying the softmax to force the attention to $0$ on future tokens.\n",
    "\n",
    "The **Cross-Attention** sub-layer allows the decoding process to selectively focus on the most relevant parts of the **entire input sequence** that was generally processed by the Encoder.\n",
    "\n",
    "Cross-Attention uses the same core attention formula, $\\text{Attention}(\\mathbf{Q}, \\mathbf{K}, \\mathbf{V})$, but draws its three components from **two different sources**: the Query vector comes from the output of the previous Masked Self-Attention layer of the Decoder, whereas the Key and Value vectors come from the final output of the entire Encoder stack.\n",
    "The output is a new context vector for the Decoder that is highly relevant to both the previously generated sequence and the original input sequence.\n",
    "\n",
    "### Different Architectures for Different Tasks\n",
    "\n",
    "The need for both an Encoder and a Decoder depends entirely on the task type:\n",
    "- **Encoder-Only Models** (like BERT) are used when the goal is to fully understand a given input sequence (e.g., classifying a movie review as positive/negative). Since no new text is generated, the Decoder is unnecessary.\n",
    "- **Decoder-Only Models** (like GPT) are used for **Large Language Models** and generative tasks. They are trained to predict the next token in a sequence based only on the preceding tokens, making the full Encoder redundant. They rely entirely on their Masked Self-Attention to build context.\n",
    "- **Encoder-Decoder Models** are reserved for tasks like Machine Translation, where a source sequence (Encoder) is read, and a distinct target sequence (Decoder) is generated.\n",
    "\n",
    "\n",
    "### References\n",
    "- [The Illustrated Transformer](https://jalammar.github.io/illustrated-transformer/)\n",
    "- [Attention? Attention!](https://lilianweng.github.io/lil-log/2018/06/24/attention-attention.html)\n",
    "- [Attention is all you need](https://arxiv.org/pdf/1706.03762.pdf)\n",
    "- [Self-Attention in NLP](https://www.youtube.com/watch?v=5vcj8kSwBCY)\n",
    "\n",
    "<p style=\\\"text-align:center\\\">\n",
    "    <img src=\"https://miro.medium.com/v2/resize:fit:1400/1*BHzGVskWGS_3jEcYYi6miQ.png\" alt=\"Multi-head attention mechanism\"/>\n",
    "</p>"
   ]
  },
  {
   "cell_type": "markdown",
   "metadata": {},
   "source": [
    "# Attention Implementation"
   ]
  },
  {
   "cell_type": "code",
   "execution_count": 1,
   "metadata": {},
   "outputs": [],
   "source": [
    "from typing import Optional\n",
    "\n",
    "import torch\n",
    "import torch.nn as nn"
   ]
  },
  {
   "cell_type": "code",
   "execution_count": 2,
   "metadata": {},
   "outputs": [],
   "source": [
    "# For all the tranformers, you will use this following tensor as example\n",
    "dummy_tensor = torch.randn((16, 32, 64)) # A tensor of shape (batch_size, sequence_length, embedding_size)\n",
    "\n",
    "# you can imagine a batch of 16 sentence of 32 tokens, each token being represented by a 64-dimensional embedding vector"
   ]
  },
  {
   "cell_type": "markdown",
   "metadata": {},
   "source": [
    "<div class=\"alert alert-block alert-info\">\n",
    "    \n",
    "<b> Exercise 3.1: </b>\n",
    "* Implement the self-attention mechanism\n",
    "</div>"
   ]
  },
  {
   "cell_type": "code",
   "execution_count": 3,
   "metadata": {},
   "outputs": [],
   "source": [
    "class SelfAttention(nn.Module): \n",
    "    \"\"\"\n",
    "    Implements a single head of the Scaled Dot-Product Self-Attention mechanism.\n",
    "    \"\"\"\n",
    "    def __init__(self, input_dim: int, dim_head: int):\n",
    "        super().__init__()\n",
    "        self.input_dim = input_dim\n",
    "        self.dim_head = dim_head\n",
    "        self.scale_factor = dim_head ** -0.5  # Scaling factor: 1 / sqrt(d_k)\n",
    "\n",
    "        # Q, K, V projections are linear layers (weights W^Q, W^K, W^V)\n",
    "        self.query = nn.Linear(input_dim, dim_head, bias=False)\n",
    "        self.key = nn.Linear(input_dim, dim_head, bias=False)\n",
    "        self.value = nn.Linear(input_dim, dim_head, bias=False)\n",
    "\n",
    "        # Softmax is applied on the last dimension (the key/sequence dimension)\n",
    "        self.softmax = nn.Softmax(dim=-1)\n",
    "\n",
    "    def forward(self, sequence: torch.Tensor, attention_mask: torch.Tensor = None):\n",
    "        \"\"\"\n",
    "        sequence: tensor of shape (batch_size, sequence_length, input_dim)\n",
    "        attention_mask: tensor of shape (batch_size, sequence_length)\n",
    "        \"\"\"\n",
    "        # Compute Q, K and V\n",
    "        Q = self.query(sequence)\n",
    "        K = self.key(sequence)\n",
    "        V = self.value(sequence)\n",
    "\n",
    "        # Compute the scaled attention scores Q x K^T\n",
    "        raw_score = torch.matmul(Q, K.transpose(-2, -1)) # K^T is K transposed on the last two dims (not on the batch dimension)\n",
    "        scaled_score = raw_score * self.scale_factor\n",
    "        \n",
    "        # Apply Mask if provided\n",
    "        if attention_mask is not None:\n",
    "            # The mask needs to be broadcastable to the attention score tensor (B, N, N)\n",
    "            # The input mask is (B, N), we need to expand it to (B, 1, N) to mask the last dim\n",
    "            mask = attention_mask.unsqueeze(1).bool()\n",
    "            mask_value = torch.finfo(dots.dtype).min  # smallest possible number, acts as -inf\n",
    "            scaled_score.masked_fill_(~mask, mask_value) \n",
    "\n",
    "        # Apply Softmax\n",
    "        attention_score = self.softmax(scaled_score)\n",
    "\n",
    "        # Compute head output\n",
    "        head = torch.matmul(attention_score, V)\n",
    "\n",
    "        return head, attention_score"
   ]
  },
  {
   "cell_type": "code",
   "execution_count": 4,
   "metadata": {},
   "outputs": [
    {
     "name": "stdout",
     "output_type": "stream",
     "text": [
      "torch.Size([16, 32, 16]) torch.Size([16, 32, 32])\n"
     ]
    }
   ],
   "source": [
    "self_attention_layer = SelfAttention(input_dim=64, dim_head=16)\n",
    "head, attention_score = self_attention_layer(dummy_tensor)\n",
    "print(head.shape, attention_score.shape)"
   ]
  },
  {
   "cell_type": "markdown",
   "metadata": {},
   "source": [
    "<div class=\"alert alert-block alert-info\">\n",
    "    \n",
    "<b> Exercise 3.2: </b>\n",
    "* Implement the multihead attention mechanism\n",
    "</div>"
   ]
  },
  {
   "cell_type": "code",
   "execution_count": 5,
   "metadata": {},
   "outputs": [],
   "source": [
    "class MultiHeadAttention(nn.Module):\n",
    "    def __init__(self, dim: int, heads: int = 8, dim_head: int = 64):\n",
    "        super().__init__()\n",
    "        inner_dim = dim_head * heads  # total dimension after combining all heads\n",
    "        self.heads = heads\n",
    "        self.scale_factor = dim_head ** -0.5  # Scaling factor: 1 / sqrt(d_k)\n",
    "\n",
    "        # Projections W^Q, W^K, W^V are combined into single layers of size (dim -> inner_dim)\n",
    "        # We split the heads later via reshaping.\n",
    "        self.query = nn.Linear(dim, inner_dim, bias=False)\n",
    "        self.key = nn.Linear(dim, inner_dim, bias=False)\n",
    "        self.value = nn.Linear(dim, inner_dim, bias=False)\n",
    "\n",
    "        # Final output projection W^O\n",
    "        self.softmax = nn.Softmax(dim=-1)\n",
    "        self.to_out = nn.Linear(inner_dim, dim, bias=False)\n",
    "\n",
    "    def forward(self, x: torch.Tensor, mask: Optional[torch.Tensor] = None):\n",
    "        h = self.heads\n",
    "        B, N, D = x.shape  # Batch, Sequence length, Model dimension\n",
    "\n",
    "        # Compute Q, K, V\n",
    "        Q = self.query(x)\n",
    "        K = self.key(x)\n",
    "        V = self.value(x)\n",
    "        \n",
    "        # Split Heads and Transpose\n",
    "        # Reshape to (B, N, heads, dim_head) -> Transpose to (B, heads, N, dim_head)\n",
    "        # This makes the attention calculation treat the 'heads' dimension independently\n",
    "        Q = Q.reshape(B, N, h, -1).transpose(1, 2)\n",
    "        K = K.reshape(B, N, h, -1).transpose(1, 2)\n",
    "        V = V.reshape(B, N, h, -1).transpose(1, 2)\n",
    "\n",
    "        # Compute the scaled attention scores (Q @ K^T)\n",
    "        scaled_score = torch.matmul(Q, K.transpose(-2, -1)) * self.scale_factor  # shape: (B, heads, N, N)\n",
    "\n",
    "        # Apply Mask\n",
    "        if mask is not None:\n",
    "            # The mask must be broadcastable to (B, heads, N, N)\n",
    "            # From a (B, N) mask, we unsqueeze twice to get (B, 1, 1, N)\n",
    "            mask = mask.unsqueeze(1).unsqueeze(2).bool()\n",
    "            mask_value = torch.finfo(attention_scores.dtype).min\n",
    "            scaled_score.masked_fill_(~mask, mask_value)\n",
    "\n",
    "        # Apply Softmax\n",
    "        attention_score = self.softmax(scaled_score)\n",
    "\n",
    "        # Compute head output\n",
    "        out = torch.matmul(attention_score, V)  # shape: (B, heads, N, dim_head)\n",
    "\n",
    "        # Final linear projection W^O\n",
    "        out = self.to_out(out.reshape(B, N, -1))\n",
    "\n",
    "        return out, attention_score"
   ]
  },
  {
   "cell_type": "code",
   "execution_count": 6,
   "metadata": {},
   "outputs": [
    {
     "name": "stdout",
     "output_type": "stream",
     "text": [
      "torch.Size([16, 32, 64]) torch.Size([16, 32, 32])\n"
     ]
    }
   ],
   "source": [
    "multihead_attention_layer = MultiHeadAttention(64, 8, 64)\n",
    "out, attention_scores = multihead_attention_layer(dummy_tensor)\n",
    "print(out.shape, attention_score.shape)"
   ]
  },
  {
   "cell_type": "markdown",
   "metadata": {},
   "source": [
    "<div class=\"alert alert-block alert-info\">\n",
    "    \n",
    "<b> Exercise 3.3: </b>\n",
    "* Implement the tranformer encoder block\n",
    "</div>"
   ]
  },
  {
   "cell_type": "code",
   "execution_count": 7,
   "metadata": {},
   "outputs": [],
   "source": [
    "class TransformerEncoderBlock(nn.Module):\n",
    "    \"\"\"\n",
    "    Implements a single block of the Transformer Encoder.\n",
    "    \"\"\"\n",
    "    def __init__(self, dim: int, heads: int = 8, dim_head: int = 64):\n",
    "        super().__init__()\n",
    "        self.ln1 = nn.LayerNorm(dim)\n",
    "        self.ln2 = nn.LayerNorm(dim)\n",
    "        \n",
    "        self.mha = MultiHeadAttention(dim, heads, dim_head)\n",
    "        \n",
    "        self.mlp = nn.Sequential(\n",
    "            nn.Linear(dim, dim * 4),\n",
    "            nn.GELU(),\n",
    "            nn.Linear(dim * 4, dim),\n",
    "        )\n",
    "\n",
    "    def forward(self, x: torch.Tensor, mask: Optional[torch.Tensor] = None):\n",
    "        # Multi-Head Attention Sub-layer\n",
    "        attention_output, _ = self.mha(self.ln1(x), mask=mask)\n",
    "        x = x + attention_output  # Residual connection\n",
    "\n",
    "        # Feed-Forward (MLP) Sub-layer\n",
    "        mlp_output = self.mlp(self.ln2(x))\n",
    "        x = x + mlp_output  # Residual connection\n",
    "        \n",
    "        return x"
   ]
  },
  {
   "cell_type": "code",
   "execution_count": 8,
   "metadata": {},
   "outputs": [
    {
     "name": "stdout",
     "output_type": "stream",
     "text": [
      "torch.Size([16, 32, 64])\n"
     ]
    }
   ],
   "source": [
    "encoder_block = TransformerEncoderBlock(64, 8, 64)\n",
    "out = encoder_block(dummy_tensor)\n",
    "print(out.shape)"
   ]
  },
  {
   "cell_type": "markdown",
   "metadata": {},
   "source": [
    "<div class=\"alert alert-block alert-info\">\n",
    "    \n",
    "<b> (Optional) Exercise 3.4: </b>\n",
    "* Implement the tranformer decoder block\n",
    "* Combine the encoder and decoder to create a transformer\n",
    "</div>"
   ]
  },
  {
   "cell_type": "code",
   "execution_count": 9,
   "metadata": {},
   "outputs": [],
   "source": [
    "class CrossAttention(MultiHeadAttention):\n",
    "    \"\"\"\n",
    "    Simulates the Cross-Attention layer by inheriting MHA structure.\n",
    "    It takes the encoder output (z) to generate K and V, and the decoder \n",
    "    output (x) to generate Q.\n",
    "    \"\"\"\n",
    "    def forward(self, x: torch.Tensor, z: torch.Tensor, mask: Optional[torch.Tensor] = None) :\n",
    "        B, N_x, D = x.shape\n",
    "        h = self.heads\n",
    "\n",
    "        # Q is computed from the Decoder's output (x)\n",
    "        Q = self.query(x)\n",
    "        # K and V are computed from the Encoder's output (z)\n",
    "        K = self.key(z)\n",
    "        V = self.value(z)\n",
    "\n",
    "        N_z = z.shape[1]\n",
    "        Q = Q.reshape(B, N_x, h, -1).transpose(1, 2)\n",
    "        K = K.reshape(B, N_z, h, -1).transpose(1, 2)\n",
    "        V = V.reshape(B, N_z, h, -1).transpose(1, 2)\n",
    "\n",
    "        scaled_score = torch.matmul(Q, K.transpose(-2, -1)) * self.scale_factor\n",
    "\n",
    "        if mask is not None:\n",
    "            mask = mask.unsqueeze(1).unsqueeze(2).bool()\n",
    "            mask_value = torch.finfo(attention_scores.dtype).min\n",
    "            scaled_score.masked_fill_(~mask, mask_value)\n",
    "        \n",
    "        attention_scores = self.softmax(scaled_score)\n",
    "        out = torch.matmul(attention_scores, V)\n",
    "\n",
    "        return self.to_out(out.reshape(B, N_x, -1))\n",
    "\n",
    "\n",
    "class TransformerDecoderBlock(nn.Module):\n",
    "    def __init__(self, dim: int, heads: int = 8, dim_head: int = 64):\n",
    "        super().__init__()\n",
    "        \n",
    "        self.ln1 = nn.LayerNorm(dim)\n",
    "        self.ln2 = nn.LayerNorm(dim)\n",
    "        self.ln3 = nn.LayerNorm(dim)\n",
    "        \n",
    "        self.masked_mha = MultiHeadAttention(dim, heads, dim_head) \n",
    "        self.cross_attn = CrossAttention(dim, heads, dim_head) \n",
    "        self.mlp = nn.Sequential(\n",
    "            nn.Linear(dim, dim * 4),\n",
    "            nn.GELU(),\n",
    "            nn.Linear(dim * 4, dim),\n",
    "        )\n",
    "\n",
    "    def forward(self, x: torch.Tensor, z: torch.Tensor, self_attn_mask: Optional[torch.Tensor] = None, cross_attn_mask: Optional[torch.Tensor] = None):\n",
    "        \"\"\"\n",
    "        x: Decoder input (output from previous decoder layer)\n",
    "        z: Encoder output (output of the final encoder block)\n",
    "        self_attn_mask: Mask for self-attention (causal/look-ahead mask)\n",
    "        cross_attn_mask: Mask for cross-attention (e.g., padding mask from encoder input)\n",
    "        \"\"\"\n",
    "        attention_output, _ = self.masked_mha(self.ln1(x), mask=self_attn_mask)\n",
    "        x = x + attention_output\n",
    "        \n",
    "        cross_output = self.cross_attn(self.ln2(x), z, mask=cross_attn_mask)\n",
    "        x = x + cross_output\n",
    "        \n",
    "        mlp_output = self.mlp(self.ln3(x))\n",
    "        x = x + mlp_output\n",
    "        \n",
    "        return x"
   ]
  },
  {
   "cell_type": "code",
   "execution_count": 10,
   "metadata": {},
   "outputs": [
    {
     "name": "stdout",
     "output_type": "stream",
     "text": [
      "torch.Size([16, 32, 64])\n"
     ]
    }
   ],
   "source": [
    "encoder_block = TransformerEncoderBlock(64, 8, 64)\n",
    "z = encoder_block(dummy_tensor)\n",
    "decoder_block = TransformerDecoderBlock(64, 8, 64)\n",
    "out = decoder_block(dummy_tensor, z)\n",
    "print(out.shape)"
   ]
  },
  {
   "cell_type": "code",
   "execution_count": 11,
   "metadata": {},
   "outputs": [],
   "source": [
    "class Transformer(nn.Module):\n",
    "    \"\"\"\n",
    "    The full Encoder-Decoder Transformer architecture.\n",
    "    \n",
    "    This class stacks the Encoder and Decoder blocks to perform sequence-to-sequence tasks.\n",
    "    It takes an input sequence (src) and a target sequence (tgt) and uses the Encoder\n",
    "    output (z) as the K/V source for the Decoder's cross-attention.\n",
    "    \"\"\"\n",
    "    def __init__(self, dim: int = 512, depth: int = 6, heads: int = 8, dim_head: int = 64):\n",
    "        super().__init__()\n",
    "        \n",
    "        # Encoder\n",
    "        self.encoder_stack = nn.ModuleList([\n",
    "            TransformerEncoderBlock(dim=dim, heads=heads, dim_head=dim_head)\n",
    "            for _ in range(depth)\n",
    "        ])\n",
    "        \n",
    "        # Decoder\n",
    "        self.decoder_stack = nn.ModuleList([\n",
    "            TransformerDecoderBlock(dim=dim, heads=heads, dim_head=dim_head)\n",
    "            for _ in range(depth)\n",
    "        ])\n",
    "\n",
    "        self.final_ln = nn.LayerNorm(dim)\n",
    "\n",
    "    def forward(\n",
    "        self, \n",
    "        src: torch.Tensor, \n",
    "        tgt: torch.Tensor, \n",
    "        src_mask: Optional[torch.Tensor] = None, \n",
    "        tgt_mask: Optional[torch.Tensor] = None\n",
    "    ) -> torch.Tensor:\n",
    "        \"\"\"\n",
    "        Args:\n",
    "            src: Source sequence (e.g., input sentence). Shape (B, N_src, D).\n",
    "            tgt: Target sequence (e.g., partially generated output). Shape (B, N_tgt, D).\n",
    "            src_mask: Padding mask for the source sequence (used in encoder and cross-attention).\n",
    "            tgt_mask: Causal mask for the target sequence (used in decoder self-attention).\n",
    "\n",
    "        Returns:\n",
    "            The final output representation from the decoder. Shape (B, N_tgt, D).\n",
    "        \"\"\"\n",
    "        \n",
    "        # Encoder Forward pass\n",
    "        z = src\n",
    "        for encoder_block in self.encoder_stack:\n",
    "            z = encoder_block(z, mask=src_mask)\n",
    "            \n",
    "        # Decoder Forward pass\n",
    "        y = tgt\n",
    "        for decoder_block in self.decoder_stack:\n",
    "            y = decoder_block(x=y, z=z, self_attn_mask=tgt_mask, cross_attn_mask=src_mask)\n",
    "        \n",
    "        output = self.final_ln(y)\n",
    "        return output"
   ]
  },
  {
   "cell_type": "markdown",
   "metadata": {},
   "source": [
    "An LLM is just a stack of transformer encoder and decoder layers with usually a huge number of parameters and a wide feedforward dimension."
   ]
  },
  {
   "cell_type": "markdown",
   "metadata": {},
   "source": [
    "# BERT (Bidirectional Encoder Representations from Transformers)\n",
    "\n",
    "BERT marked a major turning point in NLP as it introduced a novel pre-training strategy that allowed language models to capture deep, bidirectional context, significantly boosting performance across nearly all downstream tasks.\n",
    "\n",
    "##### What is the Core Purpose of BERT?\n",
    "\n",
    "The purpose of BERT is to create a **general-purpose \"language understanding\" model** that is highly effective at encoding the meaning of words based on their full context. It achieves this by being **pre-trained** in an **unsupervised** manner on a massive, general-purpose text corpus (like Wikipedia and BooksCorpus).\n",
    "\n",
    "The resulting model weights serve as a powerful foundation that can be quickly adapted to specialized tasks.\n",
    "\n",
    "A **downstream task** refers to a specific, practical NLP application (e.g., question answering, sentiment analysis, named entity recognition...).\n",
    "\n",
    "**Fine-Tuning** is the process of taking BERT's pre-trained weights and continuing to train the entire model (or just the final layers) on a small, labeled dataset specific to the downstream task. This adaptation allows the model to specialize its general language understanding for the target task, which is far more efficient than training a model from scratch.\n",
    "\n",
    "### Why BERT Models Outperformed Previous Methods\n",
    "\n",
    "BERT's superiority comes from its **deep bidirectionality**, a key architectural feature enabled by the Transformer Encoder.\n",
    "Older models like OpenAI GPT-1 (using Transformer Decoders) or LSTMs were often **unidirectional** (left-to-right). Consider the sentence:   `I made a bank deposit`\n",
    "\n",
    "In a unidirectional model, when calculating the representation for the word \"**bank**,\" the model only looks at the preceding words (\"I,\" \"made,\" \"a\") but ignores the succeeding word \"**deposit**.\" It misses the full context, which is crucial for determining the correct meaning of \"bank\" (e.g., financial institution vs. river bank).\n",
    "\n",
    "BERT is composed entirely of the **Transformer Encoder** stack. Because Encoder layers use **non-masked Self-Attention**, every token's representation is computed using information from **all other tokens** in the input sequence, from the very first layer up to the last. This makes BERT **deeply bidirectional**.\n",
    "\n",
    "### How BERT is Pre-Trained\n",
    "\n",
    "BERT is trained on two **unsupervised** tasks simultaneously on its massive text corpus. The combined training loss is the sum of the loss from both tasks.\n",
    "\n",
    "#### Task 1: Masked Language Modeling (MLM)\n",
    "\n",
    "The goal of MLM is to force the model to capture the **bidirectional context** of a word by predicting words that have been intentionally hidden.\n",
    "\n",
    "1.  **Masking:** Approximately **15%** of the tokens in the input sentence are selected as prediction targets.\n",
    "2.  **Prediction:** The model must predict the identity of the masked tokens based on the surrounding, unmasked context.\n",
    "\n",
    "```python\n",
    "input = 'the man went to the [MASK1] . he bought a [MASK2] of milk'\n",
    "label = {'[MASK1]': 'store', '[MASK2]': 'gallon'}\n",
    "```\n",
    "\n",
    "**Masking Strategy (The Trick)**: To prevent the model from always knowing a word has been hidden, the $15\\%$ of selected tokens are modified as follows:\n",
    "\n",
    "  * **80% of the time:** Replace the word with the special [MASK] token (the standard case).\n",
    "  * **10% of the time:** Replace the word with a random word (forcing the model to decide if the word fits the context).\n",
    "  * **10% of the time:** Keep the word unchanged (forcing the model to keep generating contextual representations for every token).\n",
    "\n",
    "#### Task 2: Next Sentence Prediction (NSP)\n",
    "\n",
    "NSP is designed to give BERT an understanding of the **relationship between two distinct sentences**, which is essential for tasks like Question Answering or Document Classification.\n",
    "\n",
    "1.  **Input Structure:** Two sentences, Sentence A and Sentence B, are concatenated and separated by the \\[SEP\\] token.\n",
    "2.  **Task:** The model must classify whether Sentence B is the actual next sentence that follows Sentence A in the corpus (labeled \"**IsNext**\") or if it is a random, unrelated sentence (labeled \"**NotNext**\").\n",
    "\n",
    "$$\\text{[CLS] The rain stopped pouring [SEP] The sun started to shine [SEP]} \\quad \\Rightarrow \\text{IsNext}$$\n",
    "$$\\text{[CLS] The capital of France is Paris [SEP] I am going to buy a cat [SEP]} \\quad \\Rightarrow \\text{NotNext}$$\n",
    "\n",
    "BERT was trained on vast, document-level corpora:\n",
    "\n",
    "  * BooksCorpus ($\\approx 800\\text{M}$ words)\n",
    "  * English Wikipedia ($\\approx 2,500\\text{M}$ words)\n",
    "\n",
    "It is crucial to use **document-level corpora** rather than collections of shuffled, unrelated sentences, as this is the only way to effectively train the Next Sentence Prediction task and teach the model about long-range dependencies."
   ]
  },
  {
   "cell_type": "markdown",
   "metadata": {},
   "source": [
    "# GPT\n",
    "\n",
    "Whereas BERT is trained to understand natural language and contextually encode text, models like GPT (3, 4, 5) and LLaMA are trained to generate new tokens.\n",
    "\n",
    "These models are composed of a Decoder-only stack, and use masked Self-Attention layers to compute token's representation based on the information from only the previous tokens in the input sequence (**unidirectionality**).\n",
    "\n",
    "They're trained on a vast amount of public internet data on a **Causal Language Modeling (CLM)** task, i.e. predicting the next token of a sequence.\n",
    "\n",
    "BERT is composed entirely of the Transformer Encoder stack. Because Encoder layers use non-masked Self-Attention, every token's representation is computed using information from all other tokens in the input sequence, from the very first layer up to the last. This makes BERT deeply bidirectional.\n",
    "\n",
    "#### The Secret Ingredient for Modern GPT Models: RLHF\n",
    "\n",
    "To give the GPT family models their human-like conversational ability, they're fine-tuned after pre-training _via_ a method called **Reinforcement Learning with Human Feedback (RLHF)**.\n",
    "\n",
    "RLHF uses human preferences to train a separate \"reward model,\" which then guides the GPT model to generate responses that are helpful, truthful, and harmless, making the output feel much more aligned with human dialogue and intent."
   ]
  },
  {
   "cell_type": "markdown",
   "metadata": {},
   "source": [
    "# Fine-tuning BERT for text classification\n",
    "\n",
    "In this section, we'll fine-tune the BERT model on a simple task of text classification consisting in predicting the number of stars (between 0 and 4 corresponding to 1 star to 5 stars) assigned to a Yelp review."
   ]
  },
  {
   "cell_type": "markdown",
   "metadata": {},
   "source": [
    "### Setup the dataset"
   ]
  },
  {
   "cell_type": "code",
   "execution_count": 12,
   "metadata": {},
   "outputs": [],
   "source": [
    "device = torch.device(\"cuda\" if torch.cuda.is_available() else \"cpu\")"
   ]
  },
  {
   "cell_type": "code",
   "execution_count": 13,
   "metadata": {},
   "outputs": [
    {
     "name": "stderr",
     "output_type": "stream",
     "text": [
      "'(MaxRetryError(\"HTTPSConnectionPool(host='huggingface.co', port=443): Max retries exceeded with url: /datasets/Yelp/yelp_review_full/resolve/main/README.md (Caused by SSLError(SSLCertVerificationError(1, '[SSL: CERTIFICATE_VERIFY_FAILED] certificate verify failed: self-signed certificate in certificate chain (_ssl.c:1017)')))\"), '(Request ID: cca855fa-0012-4cb8-a4e6-f99769f2433a)')' thrown while requesting HEAD https://huggingface.co/datasets/Yelp/yelp_review_full/resolve/main/README.md\n",
      "Retrying in 1s [Retry 1/5].\n",
      "'(MaxRetryError(\"HTTPSConnectionPool(host='huggingface.co', port=443): Max retries exceeded with url: /datasets/Yelp/yelp_review_full/resolve/main/README.md (Caused by SSLError(SSLCertVerificationError(1, '[SSL: CERTIFICATE_VERIFY_FAILED] certificate verify failed: self-signed certificate in certificate chain (_ssl.c:1017)')))\"), '(Request ID: 9db07430-0e69-4767-8b51-bdac210bc952)')' thrown while requesting HEAD https://huggingface.co/datasets/Yelp/yelp_review_full/resolve/main/README.md\n",
      "Retrying in 2s [Retry 2/5].\n",
      "'(MaxRetryError(\"HTTPSConnectionPool(host='huggingface.co', port=443): Max retries exceeded with url: /datasets/Yelp/yelp_review_full/resolve/main/README.md (Caused by SSLError(SSLCertVerificationError(1, '[SSL: CERTIFICATE_VERIFY_FAILED] certificate verify failed: self-signed certificate in certificate chain (_ssl.c:1017)')))\"), '(Request ID: 8eec651e-0e26-444d-94ca-6ded54d1334b)')' thrown while requesting HEAD https://huggingface.co/datasets/Yelp/yelp_review_full/resolve/main/README.md\n",
      "Retrying in 4s [Retry 3/5].\n",
      "'(MaxRetryError(\"HTTPSConnectionPool(host='huggingface.co', port=443): Max retries exceeded with url: /datasets/Yelp/yelp_review_full/resolve/main/README.md (Caused by SSLError(SSLCertVerificationError(1, '[SSL: CERTIFICATE_VERIFY_FAILED] certificate verify failed: self-signed certificate in certificate chain (_ssl.c:1017)')))\"), '(Request ID: e97a0848-713c-409d-9f74-070517ab1976)')' thrown while requesting HEAD https://huggingface.co/datasets/Yelp/yelp_review_full/resolve/main/README.md\n",
      "Retrying in 8s [Retry 4/5].\n",
      "'(MaxRetryError(\"HTTPSConnectionPool(host='huggingface.co', port=443): Max retries exceeded with url: /datasets/Yelp/yelp_review_full/resolve/main/README.md (Caused by SSLError(SSLCertVerificationError(1, '[SSL: CERTIFICATE_VERIFY_FAILED] certificate verify failed: self-signed certificate in certificate chain (_ssl.c:1017)')))\"), '(Request ID: 2325a0e1-87c5-4980-8a14-85b3969675a5)')' thrown while requesting HEAD https://huggingface.co/datasets/Yelp/yelp_review_full/resolve/main/README.md\n",
      "Retrying in 8s [Retry 5/5].\n",
      "'(MaxRetryError(\"HTTPSConnectionPool(host='huggingface.co', port=443): Max retries exceeded with url: /datasets/Yelp/yelp_review_full/resolve/main/README.md (Caused by SSLError(SSLCertVerificationError(1, '[SSL: CERTIFICATE_VERIFY_FAILED] certificate verify failed: self-signed certificate in certificate chain (_ssl.c:1017)')))\"), '(Request ID: b3796ccf-9fb8-489d-b1f2-a729c378718a)')' thrown while requesting HEAD https://huggingface.co/datasets/Yelp/yelp_review_full/resolve/main/README.md\n",
      "Using the latest cached version of the dataset since Yelp/yelp_review_full couldn't be found on the Hugging Face Hub\n",
      "Found the latest cached dataset configuration 'yelp_review_full' at /home/valentin/.cache/huggingface/datasets/Yelp___yelp_review_full/yelp_review_full/0.0.0/c1f9ee939b7d05667af864ee1cb066393154bf85 (last modified on Wed Oct 22 17:14:33 2025).\n"
     ]
    }
   ],
   "source": [
    "from datasets import load_dataset\n",
    "\n",
    "dataset = load_dataset(\"Yelp/yelp_review_full\")"
   ]
  },
  {
   "cell_type": "code",
   "execution_count": 14,
   "metadata": {},
   "outputs": [
    {
     "name": "stdout",
     "output_type": "stream",
     "text": [
      "{'label': 0, 'text': 'My expectations for McDonalds are t rarely high. But for one to still fail so spectacularly...that takes something special!\\\\nThe cashier took my friends\\'s order, then promptly ignored me. I had to force myself in front of a cashier who opened his register to wait on the person BEHIND me. I waited over five minutes for a gigantic order that included precisely one kid\\'s meal. After watching two people who ordered after me be handed their food, I asked where mine was. The manager started yelling at the cashiers for \\\\\"serving off their orders\\\\\" when they didn\\'t have their food. But neither cashier was anywhere near those controls, and the manager was the one serving food to customers and clearing the boards.\\\\nThe manager was rude when giving me my order. She didn\\'t make sure that I had everything ON MY RECEIPT, and never even had the decency to apologize that I felt I was getting poor service.\\\\nI\\'ve eaten at various McDonalds restaurants for over 30 years. I\\'ve worked at more than one location. I expect bad days, bad moods, and the occasional mistake. But I have yet to have a decent experience at this store. It will remain a place I avoid unless someone in my party needs to avoid illness from low blood sugar. Perhaps I should go back to the racially biased service of Steak n Shake instead!'}\n"
     ]
    }
   ],
   "source": [
    "print(dataset[\"train\"][100])"
   ]
  },
  {
   "cell_type": "markdown",
   "metadata": {},
   "source": [
    "### Tokenization"
   ]
  },
  {
   "cell_type": "code",
   "execution_count": 15,
   "metadata": {},
   "outputs": [
    {
     "name": "stderr",
     "output_type": "stream",
     "text": [
      "'(MaxRetryError(\"HTTPSConnectionPool(host='huggingface.co', port=443): Max retries exceeded with url: /bert-base-cased/resolve/main/tokenizer_config.json (Caused by SSLError(SSLCertVerificationError(1, '[SSL: CERTIFICATE_VERIFY_FAILED] certificate verify failed: self-signed certificate in certificate chain (_ssl.c:1017)')))\"), '(Request ID: cfb9e19d-8f8d-4dde-8009-7aa089d692ef)')' thrown while requesting HEAD https://huggingface.co/bert-base-cased/resolve/main/tokenizer_config.json\n",
      "Retrying in 1s [Retry 1/5].\n",
      "'(MaxRetryError(\"HTTPSConnectionPool(host='huggingface.co', port=443): Max retries exceeded with url: /bert-base-cased/resolve/main/tokenizer_config.json (Caused by SSLError(SSLCertVerificationError(1, '[SSL: CERTIFICATE_VERIFY_FAILED] certificate verify failed: self-signed certificate in certificate chain (_ssl.c:1017)')))\"), '(Request ID: af88e137-914a-4b7c-a681-d7ce60e48104)')' thrown while requesting HEAD https://huggingface.co/bert-base-cased/resolve/main/tokenizer_config.json\n",
      "Retrying in 2s [Retry 2/5].\n",
      "'(MaxRetryError(\"HTTPSConnectionPool(host='huggingface.co', port=443): Max retries exceeded with url: /bert-base-cased/resolve/main/tokenizer_config.json (Caused by SSLError(SSLCertVerificationError(1, '[SSL: CERTIFICATE_VERIFY_FAILED] certificate verify failed: self-signed certificate in certificate chain (_ssl.c:1017)')))\"), '(Request ID: 7cc9757c-9905-4150-8741-0c1ea479e8a4)')' thrown while requesting HEAD https://huggingface.co/bert-base-cased/resolve/main/tokenizer_config.json\n",
      "Retrying in 4s [Retry 3/5].\n",
      "'(MaxRetryError(\"HTTPSConnectionPool(host='huggingface.co', port=443): Max retries exceeded with url: /bert-base-cased/resolve/main/tokenizer_config.json (Caused by SSLError(SSLCertVerificationError(1, '[SSL: CERTIFICATE_VERIFY_FAILED] certificate verify failed: self-signed certificate in certificate chain (_ssl.c:1017)')))\"), '(Request ID: f90efbd0-f0e4-4b90-89e8-e60adf511190)')' thrown while requesting HEAD https://huggingface.co/bert-base-cased/resolve/main/tokenizer_config.json\n",
      "Retrying in 8s [Retry 4/5].\n",
      "'(MaxRetryError(\"HTTPSConnectionPool(host='huggingface.co', port=443): Max retries exceeded with url: /bert-base-cased/resolve/main/tokenizer_config.json (Caused by SSLError(SSLCertVerificationError(1, '[SSL: CERTIFICATE_VERIFY_FAILED] certificate verify failed: self-signed certificate in certificate chain (_ssl.c:1017)')))\"), '(Request ID: 5bf4a78f-10ce-4e92-966e-2729787c1aa4)')' thrown while requesting HEAD https://huggingface.co/bert-base-cased/resolve/main/tokenizer_config.json\n",
      "Retrying in 8s [Retry 5/5].\n",
      "'(MaxRetryError(\"HTTPSConnectionPool(host='huggingface.co', port=443): Max retries exceeded with url: /bert-base-cased/resolve/main/tokenizer_config.json (Caused by SSLError(SSLCertVerificationError(1, '[SSL: CERTIFICATE_VERIFY_FAILED] certificate verify failed: self-signed certificate in certificate chain (_ssl.c:1017)')))\"), '(Request ID: d4ff0cf5-6486-41fd-871b-805c99d7796a)')' thrown while requesting HEAD https://huggingface.co/bert-base-cased/resolve/main/tokenizer_config.json\n"
     ]
    }
   ],
   "source": [
    "from transformers import AutoTokenizer\n",
    "\n",
    "tokenizer = AutoTokenizer.from_pretrained(\"bert-base-cased\")"
   ]
  },
  {
   "cell_type": "code",
   "execution_count": 16,
   "metadata": {},
   "outputs": [
    {
     "name": "stdout",
     "output_type": "stream",
     "text": [
      "Nb of tokens: 28996\n",
      "{'##air': 8341, 'quantum': 9539, 'striker': 13074, 'ghost': 7483, 'gig': 17799, 'ransom': 25057, '##believable': 26438, 'precinct': 26757, 'playwright': 11617, '##rting': 21811}\n"
     ]
    }
   ],
   "source": [
    "print(\"Nb of tokens:\", tokenizer.vocab_size)\n",
    "print({k:v for k, v in list(tokenizer.get_vocab().items())[:10]})"
   ]
  },
  {
   "cell_type": "code",
   "execution_count": 17,
   "metadata": {},
   "outputs": [
    {
     "name": "stdout",
     "output_type": "stream",
     "text": [
      "Tokens: [101, 8667, 1362, 106, 12050, 1106, 1103, 157, 12649, 7792, 9681, 1736, 119, 102]\n",
      "[CLS]//Hello//world//!//Welcome//to//the//T//##SE//Machine//Learning//course//.//[SEP]\n"
     ]
    }
   ],
   "source": [
    "test_sentence = \"Hello world! Welcome to the TSE Machine Learning course.\"\n",
    "ids = tokenizer(test_sentence)[\"input_ids\"]\n",
    "print(\"Tokens:\", ids)\n",
    "print(\"//\".join(map(tokenizer.decode, ids)))"
   ]
  },
  {
   "cell_type": "code",
   "execution_count": 18,
   "metadata": {},
   "outputs": [
    {
     "data": {
      "application/vnd.jupyter.widget-view+json": {
       "model_id": "536e5a3e8ab047c8bd646ff3fd36c5bb",
       "version_major": 2,
       "version_minor": 0
      },
      "text/plain": [
       "Map:   0%|          | 0/650000 [00:00<?, ? examples/s]"
      ]
     },
     "metadata": {},
     "output_type": "display_data"
    },
    {
     "data": {
      "application/vnd.jupyter.widget-view+json": {
       "model_id": "57171a8620f34c9baebc9cdbfa28f7f9",
       "version_major": 2,
       "version_minor": 0
      },
      "text/plain": [
       "Map:   0%|          | 0/50000 [00:00<?, ? examples/s]"
      ]
     },
     "metadata": {},
     "output_type": "display_data"
    }
   ],
   "source": [
    "def tokenize_function(examples):\n",
    "    return tokenizer(examples[\"text\"], padding=\"max_length\", truncation=True, return_tensors=\"pt\")\n",
    "\n",
    "tokenized_datasets = dataset.map(tokenize_function, batched=True)"
   ]
  },
  {
   "cell_type": "code",
   "execution_count": 19,
   "metadata": {},
   "outputs": [],
   "source": [
    "tokenized_datasets.set_format(\"pt\", columns=[\"input_ids\", \"attention_mask\", \"label\"], output_all_columns=True)"
   ]
  },
  {
   "cell_type": "code",
   "execution_count": 20,
   "metadata": {},
   "outputs": [],
   "source": [
    "small_train_dataset = tokenized_datasets[\"train\"].shuffle(seed=42).select(range(1000))\n",
    "small_eval_dataset = tokenized_datasets[\"test\"].shuffle(seed=42).select(range(1000))"
   ]
  },
  {
   "cell_type": "code",
   "execution_count": 21,
   "metadata": {},
   "outputs": [
    {
     "name": "stdout",
     "output_type": "stream",
     "text": [
      "Dataset({\n",
      "    features: ['label', 'text', 'input_ids', 'token_type_ids', 'attention_mask'],\n",
      "    num_rows: 1000\n",
      "})\n",
      "{'label': tensor(4), 'input_ids': tensor([  101,   146, 27438,  1142,  4202,   119,   146,   112,  1396,  1151,\n",
      "         1106,  3924,  8412,  1187,   146,  9981,  1106,  1129,   170, 13395,\n",
      "         7589,  2288,  1107,  1413,   117,  6322,  8796,  5030,  7424,   117,\n",
      "         1105,  1104,  1736,  1103,  9230,   112,   188,  2319,   119,  1109,\n",
      "        20400,  1132,  1177,  1177,  7284, 10455,   119,  1109,  3172,  1110,\n",
      "         7688,  4931,  1105,  1119,  2228,  1296,  7329,  1118,  1289,  1114,\n",
      "         1126, 10965,  2971,  1104,  8188,   119,  1192, 13224,  3940,  1303,\n",
      "         3713,   106,   106,   106,   102,     0,     0,     0,     0,     0,\n",
      "            0,     0,     0,     0,     0,     0,     0,     0,     0,     0,\n",
      "            0,     0,     0,     0,     0,     0,     0,     0,     0,     0,\n",
      "            0,     0,     0,     0,     0,     0,     0,     0,     0,     0,\n",
      "            0,     0,     0,     0,     0,     0,     0,     0,     0,     0,\n",
      "            0,     0,     0,     0,     0,     0,     0,     0,     0,     0,\n",
      "            0,     0,     0,     0,     0,     0,     0,     0,     0,     0,\n",
      "            0,     0,     0,     0,     0,     0,     0,     0,     0,     0,\n",
      "            0,     0,     0,     0,     0,     0,     0,     0,     0,     0,\n",
      "            0,     0,     0,     0,     0,     0,     0,     0,     0,     0,\n",
      "            0,     0,     0,     0,     0,     0,     0,     0,     0,     0,\n",
      "            0,     0,     0,     0,     0,     0,     0,     0,     0,     0,\n",
      "            0,     0,     0,     0,     0,     0,     0,     0,     0,     0,\n",
      "            0,     0,     0,     0,     0,     0,     0,     0,     0,     0,\n",
      "            0,     0,     0,     0,     0,     0,     0,     0,     0,     0,\n",
      "            0,     0,     0,     0,     0,     0,     0,     0,     0,     0,\n",
      "            0,     0,     0,     0,     0,     0,     0,     0,     0,     0,\n",
      "            0,     0,     0,     0,     0,     0,     0,     0,     0,     0,\n",
      "            0,     0,     0,     0,     0,     0,     0,     0,     0,     0,\n",
      "            0,     0,     0,     0,     0,     0,     0,     0,     0,     0,\n",
      "            0,     0,     0,     0,     0,     0,     0,     0,     0,     0,\n",
      "            0,     0,     0,     0,     0,     0,     0,     0,     0,     0,\n",
      "            0,     0,     0,     0,     0,     0,     0,     0,     0,     0,\n",
      "            0,     0,     0,     0,     0,     0,     0,     0,     0,     0,\n",
      "            0,     0,     0,     0,     0,     0,     0,     0,     0,     0,\n",
      "            0,     0,     0,     0,     0,     0,     0,     0,     0,     0,\n",
      "            0,     0,     0,     0,     0,     0,     0,     0,     0,     0,\n",
      "            0,     0,     0,     0,     0,     0,     0,     0,     0,     0,\n",
      "            0,     0,     0,     0,     0,     0,     0,     0,     0,     0,\n",
      "            0,     0,     0,     0,     0,     0,     0,     0,     0,     0,\n",
      "            0,     0,     0,     0,     0,     0,     0,     0,     0,     0,\n",
      "            0,     0,     0,     0,     0,     0,     0,     0,     0,     0,\n",
      "            0,     0,     0,     0,     0,     0,     0,     0,     0,     0,\n",
      "            0,     0,     0,     0,     0,     0,     0,     0,     0,     0,\n",
      "            0,     0,     0,     0,     0,     0,     0,     0,     0,     0,\n",
      "            0,     0,     0,     0,     0,     0,     0,     0,     0,     0,\n",
      "            0,     0,     0,     0,     0,     0,     0,     0,     0,     0,\n",
      "            0,     0,     0,     0,     0,     0,     0,     0,     0,     0,\n",
      "            0,     0,     0,     0,     0,     0,     0,     0,     0,     0,\n",
      "            0,     0,     0,     0,     0,     0,     0,     0,     0,     0,\n",
      "            0,     0,     0,     0,     0,     0,     0,     0,     0,     0,\n",
      "            0,     0,     0,     0,     0,     0,     0,     0,     0,     0,\n",
      "            0,     0,     0,     0,     0,     0,     0,     0,     0,     0,\n",
      "            0,     0,     0,     0,     0,     0,     0,     0,     0,     0,\n",
      "            0,     0]), 'attention_mask': tensor([1, 1, 1, 1, 1, 1, 1, 1, 1, 1, 1, 1, 1, 1, 1, 1, 1, 1, 1, 1, 1, 1, 1, 1,\n",
      "        1, 1, 1, 1, 1, 1, 1, 1, 1, 1, 1, 1, 1, 1, 1, 1, 1, 1, 1, 1, 1, 1, 1, 1,\n",
      "        1, 1, 1, 1, 1, 1, 1, 1, 1, 1, 1, 1, 1, 1, 1, 1, 1, 1, 1, 1, 1, 1, 1, 1,\n",
      "        1, 1, 1, 0, 0, 0, 0, 0, 0, 0, 0, 0, 0, 0, 0, 0, 0, 0, 0, 0, 0, 0, 0, 0,\n",
      "        0, 0, 0, 0, 0, 0, 0, 0, 0, 0, 0, 0, 0, 0, 0, 0, 0, 0, 0, 0, 0, 0, 0, 0,\n",
      "        0, 0, 0, 0, 0, 0, 0, 0, 0, 0, 0, 0, 0, 0, 0, 0, 0, 0, 0, 0, 0, 0, 0, 0,\n",
      "        0, 0, 0, 0, 0, 0, 0, 0, 0, 0, 0, 0, 0, 0, 0, 0, 0, 0, 0, 0, 0, 0, 0, 0,\n",
      "        0, 0, 0, 0, 0, 0, 0, 0, 0, 0, 0, 0, 0, 0, 0, 0, 0, 0, 0, 0, 0, 0, 0, 0,\n",
      "        0, 0, 0, 0, 0, 0, 0, 0, 0, 0, 0, 0, 0, 0, 0, 0, 0, 0, 0, 0, 0, 0, 0, 0,\n",
      "        0, 0, 0, 0, 0, 0, 0, 0, 0, 0, 0, 0, 0, 0, 0, 0, 0, 0, 0, 0, 0, 0, 0, 0,\n",
      "        0, 0, 0, 0, 0, 0, 0, 0, 0, 0, 0, 0, 0, 0, 0, 0, 0, 0, 0, 0, 0, 0, 0, 0,\n",
      "        0, 0, 0, 0, 0, 0, 0, 0, 0, 0, 0, 0, 0, 0, 0, 0, 0, 0, 0, 0, 0, 0, 0, 0,\n",
      "        0, 0, 0, 0, 0, 0, 0, 0, 0, 0, 0, 0, 0, 0, 0, 0, 0, 0, 0, 0, 0, 0, 0, 0,\n",
      "        0, 0, 0, 0, 0, 0, 0, 0, 0, 0, 0, 0, 0, 0, 0, 0, 0, 0, 0, 0, 0, 0, 0, 0,\n",
      "        0, 0, 0, 0, 0, 0, 0, 0, 0, 0, 0, 0, 0, 0, 0, 0, 0, 0, 0, 0, 0, 0, 0, 0,\n",
      "        0, 0, 0, 0, 0, 0, 0, 0, 0, 0, 0, 0, 0, 0, 0, 0, 0, 0, 0, 0, 0, 0, 0, 0,\n",
      "        0, 0, 0, 0, 0, 0, 0, 0, 0, 0, 0, 0, 0, 0, 0, 0, 0, 0, 0, 0, 0, 0, 0, 0,\n",
      "        0, 0, 0, 0, 0, 0, 0, 0, 0, 0, 0, 0, 0, 0, 0, 0, 0, 0, 0, 0, 0, 0, 0, 0,\n",
      "        0, 0, 0, 0, 0, 0, 0, 0, 0, 0, 0, 0, 0, 0, 0, 0, 0, 0, 0, 0, 0, 0, 0, 0,\n",
      "        0, 0, 0, 0, 0, 0, 0, 0, 0, 0, 0, 0, 0, 0, 0, 0, 0, 0, 0, 0, 0, 0, 0, 0,\n",
      "        0, 0, 0, 0, 0, 0, 0, 0, 0, 0, 0, 0, 0, 0, 0, 0, 0, 0, 0, 0, 0, 0, 0, 0,\n",
      "        0, 0, 0, 0, 0, 0, 0, 0]), 'text': \"I stalk this truck.  I've been to industrial parks where I pretend to be a tech worker standing in line, strip mall parking lots, and of course the farmer's market.  The bowls are so so absolutely divine.  The owner is super friendly and he makes each bowl by hand with an incredible amount of pride.  You gotta eat here guys!!!\", 'token_type_ids': [0, 0, 0, 0, 0, 0, 0, 0, 0, 0, 0, 0, 0, 0, 0, 0, 0, 0, 0, 0, 0, 0, 0, 0, 0, 0, 0, 0, 0, 0, 0, 0, 0, 0, 0, 0, 0, 0, 0, 0, 0, 0, 0, 0, 0, 0, 0, 0, 0, 0, 0, 0, 0, 0, 0, 0, 0, 0, 0, 0, 0, 0, 0, 0, 0, 0, 0, 0, 0, 0, 0, 0, 0, 0, 0, 0, 0, 0, 0, 0, 0, 0, 0, 0, 0, 0, 0, 0, 0, 0, 0, 0, 0, 0, 0, 0, 0, 0, 0, 0, 0, 0, 0, 0, 0, 0, 0, 0, 0, 0, 0, 0, 0, 0, 0, 0, 0, 0, 0, 0, 0, 0, 0, 0, 0, 0, 0, 0, 0, 0, 0, 0, 0, 0, 0, 0, 0, 0, 0, 0, 0, 0, 0, 0, 0, 0, 0, 0, 0, 0, 0, 0, 0, 0, 0, 0, 0, 0, 0, 0, 0, 0, 0, 0, 0, 0, 0, 0, 0, 0, 0, 0, 0, 0, 0, 0, 0, 0, 0, 0, 0, 0, 0, 0, 0, 0, 0, 0, 0, 0, 0, 0, 0, 0, 0, 0, 0, 0, 0, 0, 0, 0, 0, 0, 0, 0, 0, 0, 0, 0, 0, 0, 0, 0, 0, 0, 0, 0, 0, 0, 0, 0, 0, 0, 0, 0, 0, 0, 0, 0, 0, 0, 0, 0, 0, 0, 0, 0, 0, 0, 0, 0, 0, 0, 0, 0, 0, 0, 0, 0, 0, 0, 0, 0, 0, 0, 0, 0, 0, 0, 0, 0, 0, 0, 0, 0, 0, 0, 0, 0, 0, 0, 0, 0, 0, 0, 0, 0, 0, 0, 0, 0, 0, 0, 0, 0, 0, 0, 0, 0, 0, 0, 0, 0, 0, 0, 0, 0, 0, 0, 0, 0, 0, 0, 0, 0, 0, 0, 0, 0, 0, 0, 0, 0, 0, 0, 0, 0, 0, 0, 0, 0, 0, 0, 0, 0, 0, 0, 0, 0, 0, 0, 0, 0, 0, 0, 0, 0, 0, 0, 0, 0, 0, 0, 0, 0, 0, 0, 0, 0, 0, 0, 0, 0, 0, 0, 0, 0, 0, 0, 0, 0, 0, 0, 0, 0, 0, 0, 0, 0, 0, 0, 0, 0, 0, 0, 0, 0, 0, 0, 0, 0, 0, 0, 0, 0, 0, 0, 0, 0, 0, 0, 0, 0, 0, 0, 0, 0, 0, 0, 0, 0, 0, 0, 0, 0, 0, 0, 0, 0, 0, 0, 0, 0, 0, 0, 0, 0, 0, 0, 0, 0, 0, 0, 0, 0, 0, 0, 0, 0, 0, 0, 0, 0, 0, 0, 0, 0, 0, 0, 0, 0, 0, 0, 0, 0, 0, 0, 0, 0, 0, 0, 0, 0, 0, 0, 0, 0, 0, 0, 0, 0, 0, 0, 0, 0, 0, 0, 0, 0, 0, 0, 0, 0, 0, 0, 0, 0, 0, 0, 0, 0, 0, 0, 0, 0, 0, 0, 0, 0, 0, 0, 0, 0, 0, 0, 0, 0, 0, 0, 0, 0, 0, 0, 0, 0, 0, 0, 0, 0, 0, 0]}\n"
     ]
    }
   ],
   "source": [
    "print(small_train_dataset)\n",
    "print(small_train_dataset[0])"
   ]
  },
  {
   "cell_type": "markdown",
   "metadata": {},
   "source": [
    "\n",
    "<div class=\"alert alert-block alert-info\">\n",
    "    \n",
    "<b> Exercise 3.5: </b>\n",
    "* Using the [`transformers` library](https://huggingface.co/docs/transformers/index), download the BERT uncased model (name \"bert-base-uncased\") and change the number of labels to 5\n",
    "</div>"
   ]
  },
  {
   "cell_type": "code",
   "execution_count": 22,
   "metadata": {},
   "outputs": [
    {
     "name": "stderr",
     "output_type": "stream",
     "text": [
      "'(MaxRetryError(\"HTTPSConnectionPool(host='huggingface.co', port=443): Max retries exceeded with url: /bert-base-uncased/resolve/main/config.json (Caused by SSLError(SSLCertVerificationError(1, '[SSL: CERTIFICATE_VERIFY_FAILED] certificate verify failed: self-signed certificate in certificate chain (_ssl.c:1017)')))\"), '(Request ID: 73b319a7-4083-432a-a8e3-5703a496e80d)')' thrown while requesting HEAD https://huggingface.co/bert-base-uncased/resolve/main/config.json\n",
      "Retrying in 1s [Retry 1/5].\n",
      "'(MaxRetryError(\"HTTPSConnectionPool(host='huggingface.co', port=443): Max retries exceeded with url: /bert-base-uncased/resolve/main/config.json (Caused by SSLError(SSLCertVerificationError(1, '[SSL: CERTIFICATE_VERIFY_FAILED] certificate verify failed: self-signed certificate in certificate chain (_ssl.c:1017)')))\"), '(Request ID: d6f95773-7e99-44fa-9ff2-5a6c34abc7d5)')' thrown while requesting HEAD https://huggingface.co/bert-base-uncased/resolve/main/config.json\n",
      "Retrying in 2s [Retry 2/5].\n",
      "'(MaxRetryError(\"HTTPSConnectionPool(host='huggingface.co', port=443): Max retries exceeded with url: /bert-base-uncased/resolve/main/config.json (Caused by SSLError(SSLCertVerificationError(1, '[SSL: CERTIFICATE_VERIFY_FAILED] certificate verify failed: self-signed certificate in certificate chain (_ssl.c:1017)')))\"), '(Request ID: 3781afdb-dbfe-4299-883a-aefd3d269a32)')' thrown while requesting HEAD https://huggingface.co/bert-base-uncased/resolve/main/config.json\n",
      "Retrying in 4s [Retry 3/5].\n",
      "'(MaxRetryError(\"HTTPSConnectionPool(host='huggingface.co', port=443): Max retries exceeded with url: /bert-base-uncased/resolve/main/config.json (Caused by SSLError(SSLCertVerificationError(1, '[SSL: CERTIFICATE_VERIFY_FAILED] certificate verify failed: self-signed certificate in certificate chain (_ssl.c:1017)')))\"), '(Request ID: a5d8e9ec-9f98-4658-b82b-0b4cfd130c35)')' thrown while requesting HEAD https://huggingface.co/bert-base-uncased/resolve/main/config.json\n",
      "Retrying in 8s [Retry 4/5].\n",
      "'(MaxRetryError(\"HTTPSConnectionPool(host='huggingface.co', port=443): Max retries exceeded with url: /bert-base-uncased/resolve/main/config.json (Caused by SSLError(SSLCertVerificationError(1, '[SSL: CERTIFICATE_VERIFY_FAILED] certificate verify failed: self-signed certificate in certificate chain (_ssl.c:1017)')))\"), '(Request ID: c9cf898d-eedf-42b8-a3c4-b164ea3af936)')' thrown while requesting HEAD https://huggingface.co/bert-base-uncased/resolve/main/config.json\n",
      "Retrying in 8s [Retry 5/5].\n",
      "'(MaxRetryError(\"HTTPSConnectionPool(host='huggingface.co', port=443): Max retries exceeded with url: /bert-base-uncased/resolve/main/config.json (Caused by SSLError(SSLCertVerificationError(1, '[SSL: CERTIFICATE_VERIFY_FAILED] certificate verify failed: self-signed certificate in certificate chain (_ssl.c:1017)')))\"), '(Request ID: 7fae312e-ef0f-4516-ac4e-703641ff231d)')' thrown while requesting HEAD https://huggingface.co/bert-base-uncased/resolve/main/config.json\n",
      "Some weights of BertForSequenceClassification were not initialized from the model checkpoint at bert-base-uncased and are newly initialized: ['classifier.bias', 'classifier.weight']\n",
      "You should probably TRAIN this model on a down-stream task to be able to use it for predictions and inference.\n"
     ]
    },
    {
     "name": "stdout",
     "output_type": "stream",
     "text": [
      "BertForSequenceClassification(\n",
      "  (bert): BertModel(\n",
      "    (embeddings): BertEmbeddings(\n",
      "      (word_embeddings): Embedding(30522, 768, padding_idx=0)\n",
      "      (position_embeddings): Embedding(512, 768)\n",
      "      (token_type_embeddings): Embedding(2, 768)\n",
      "      (LayerNorm): LayerNorm((768,), eps=1e-12, elementwise_affine=True)\n",
      "      (dropout): Dropout(p=0.1, inplace=False)\n",
      "    )\n",
      "    (encoder): BertEncoder(\n",
      "      (layer): ModuleList(\n",
      "        (0-11): 12 x BertLayer(\n",
      "          (attention): BertAttention(\n",
      "            (self): BertSdpaSelfAttention(\n",
      "              (query): Linear(in_features=768, out_features=768, bias=True)\n",
      "              (key): Linear(in_features=768, out_features=768, bias=True)\n",
      "              (value): Linear(in_features=768, out_features=768, bias=True)\n",
      "              (dropout): Dropout(p=0.1, inplace=False)\n",
      "            )\n",
      "            (output): BertSelfOutput(\n",
      "              (dense): Linear(in_features=768, out_features=768, bias=True)\n",
      "              (LayerNorm): LayerNorm((768,), eps=1e-12, elementwise_affine=True)\n",
      "              (dropout): Dropout(p=0.1, inplace=False)\n",
      "            )\n",
      "          )\n",
      "          (intermediate): BertIntermediate(\n",
      "            (dense): Linear(in_features=768, out_features=3072, bias=True)\n",
      "            (intermediate_act_fn): GELUActivation()\n",
      "          )\n",
      "          (output): BertOutput(\n",
      "            (dense): Linear(in_features=3072, out_features=768, bias=True)\n",
      "            (LayerNorm): LayerNorm((768,), eps=1e-12, elementwise_affine=True)\n",
      "            (dropout): Dropout(p=0.1, inplace=False)\n",
      "          )\n",
      "        )\n",
      "      )\n",
      "    )\n",
      "    (pooler): BertPooler(\n",
      "      (dense): Linear(in_features=768, out_features=768, bias=True)\n",
      "      (activation): Tanh()\n",
      "    )\n",
      "  )\n",
      "  (dropout): Dropout(p=0.1, inplace=False)\n",
      "  (classifier): Linear(in_features=768, out_features=5, bias=True)\n",
      ")\n"
     ]
    }
   ],
   "source": [
    "from transformers import AutoModelForSequenceClassification\n",
    "\n",
    "model = AutoModelForSequenceClassification.from_pretrained(\"bert-base-uncased\", num_labels=5)\n",
    "print(model)"
   ]
  },
  {
   "cell_type": "markdown",
   "metadata": {},
   "source": [
    "<div class=\"alert alert-block alert-info\">\n",
    "    \n",
    "<b> Exercise 3.6: </b>\n",
    "* Make an inference with the model\n",
    "</div>"
   ]
  },
  {
   "cell_type": "code",
   "execution_count": 23,
   "metadata": {},
   "outputs": [
    {
     "name": "stdout",
     "output_type": "stream",
     "text": [
      "tensor([[0.2057, 0.1267, 0.1413, 0.2602, 0.2661]])\n"
     ]
    }
   ],
   "source": [
    "import torch\n",
    "\n",
    "# Extract the first example\n",
    "example = small_train_dataset[0]\n",
    "\n",
    "# Extract the input fields required by the model\n",
    "input_ids = example[\"input_ids\"]\n",
    "attention_mask = example[\"attention_mask\"]\n",
    "\n",
    "# Convert to the format expected by the model i.e. (batch_size, sequence_length)\n",
    "inputs = {\n",
    "    \"input_ids\": input_ids.unsqueeze(0),\n",
    "    \"attention_mask\": attention_mask.unsqueeze(0),\n",
    "}\n",
    "\n",
    "\n",
    "# Get predictions from the model\n",
    "with torch.no_grad():\n",
    "    outputs = model(**inputs)\n",
    "\n",
    "# The outputs are logits, you can apply softmax to get probabilities\n",
    "probabilities = torch.nn.functional.softmax(outputs.logits, dim=1)\n",
    "\n",
    "print(probabilities)"
   ]
  },
  {
   "cell_type": "code",
   "execution_count": 24,
   "metadata": {},
   "outputs": [],
   "source": [
    "def evaluate_model(model, dataloader, loss_function, device):\n",
    "    model.eval()\n",
    "    total_eval_loss = 0\n",
    "    correct_predictions = 0\n",
    "    nb_iteration = 0\n",
    "    total_data = 0\n",
    "    for batch in dataloader:\n",
    "        # Move batch to the same device as model\n",
    "        y = batch.pop(\"label\").to(device)\n",
    "        text = batch.pop(\"text\")\n",
    "\n",
    "        # Forward pass: compute predicted outputs by passing inputs to the model\n",
    "        input_data = {k: batch[k].to(device) for k in (\"input_ids\", \"attention_mask\")}\n",
    "        with torch.no_grad():\n",
    "            outputs = model(**input_data)\n",
    "        logits = outputs.logits\n",
    "        total_data += logits.size()[0]  # Get the batch size\n",
    "        loss = loss_function(logits, y)\n",
    "        total_eval_loss += loss.item()\n",
    "\n",
    "        preds = torch.argmax(logits, dim=1)\n",
    "        correct_predictions += torch.sum(preds == y)\n",
    "        nb_iteration += 1\n",
    "\n",
    "    avg_loss = total_eval_loss / nb_iteration\n",
    "    accuracy = correct_predictions.double() / total_data\n",
    "    return avg_loss, accuracy"
   ]
  },
  {
   "cell_type": "markdown",
   "metadata": {},
   "source": [
    "\n",
    "<div class=\"alert alert-block alert-info\">\n",
    "    \n",
    "<b> Exercise 3.7: </b>\n",
    "* Add the AdamW optimizer with a Learning Rate $\\alpha = 5\\mathrm{e}{-5}$\n",
    "</div>"
   ]
  },
  {
   "cell_type": "code",
   "execution_count": 25,
   "metadata": {},
   "outputs": [],
   "source": [
    "import torch\n",
    "from torch.optim import AdamW\n",
    "from torch.nn import CrossEntropyLoss\n",
    "\n",
    "# Ensure the model is on the correct device (GPU or CPU)\n",
    "device = \"cuda\" if torch.cuda.is_available() else \"cpu\"\n",
    "model = model.to(device)\n",
    "\n",
    "# Initialize the optimizer\n",
    "optimizer = AdamW(model.parameters(), lr=5e-5)\n",
    "\n",
    "# Define the loss function\n",
    "loss_function = CrossEntropyLoss()"
   ]
  },
  {
   "cell_type": "markdown",
   "metadata": {},
   "source": [
    "<div class=\"alert alert-block alert-info\">\n",
    "    \n",
    "<b> Exercise 3.8: </b>\n",
    "* Perform the training\n",
    "* Why the performance is so bad?\n",
    "</div>"
   ]
  },
  {
   "cell_type": "code",
   "execution_count": null,
   "metadata": {},
   "outputs": [],
   "source": [
    "from tqdm import tqdm  # for displaying a progress bar\n",
    "\n",
    "# Define the number of training epochs\n",
    "epochs = 3\n",
    "\n",
    "# Start the training loop\n",
    "for epoch in range(epochs):\n",
    "    model.train()  # set the model to training mode\n",
    "    total_loss = 0\n",
    "    nb_iteration = 0\n",
    "\n",
    "    train_iter = small_train_dataset.iter(batch_size=8)\n",
    "    eval_iter = small_eval_dataset.iter(batch_size=8)\n",
    "\n",
    "    for batch in tqdm(train_iter, desc=f\"Epoch {epoch + 1}/{epochs}\", unit=\"batch\"):\n",
    "        # Move batch to the same device as model\n",
    "        y = batch.pop(\"label\").to(device)\n",
    "        text = batch.pop(\"text\")\n",
    "        \n",
    "        # Forward pass: compute predicted outputs by passing inputs to the model\n",
    "        input_data = {k: batch[k].to(device) for k in (\"input_ids\", \"attention_mask\")}\n",
    "        outputs = model(**input_data)\n",
    "\n",
    "        # Compute loss\n",
    "        loss = loss_function(outputs.logits, y)\n",
    "\n",
    "        # Backward pass: compute gradient of the loss with respect to model parameters\n",
    "        loss.backward()\n",
    "\n",
    "        # Update parameters and zero the gradients\n",
    "        optimizer.step()\n",
    "        optimizer.zero_grad()\n",
    "\n",
    "        nb_iteration += 1\n",
    "\n",
    "        # Accumulate the training loss\n",
    "        total_loss += loss.item()\n",
    "\n",
    "    # Calculate average loss over an epoch\n",
    "    avg_train_loss = total_loss / nb_iteration\n",
    "\n",
    "    print(f\"\\nEpoch {epoch + 1} complete! Average Training Loss: {avg_train_loss:.4f}\")\n",
    "    eval_loss, eval_accuracy = evaluate_model(model, eval_iter, loss_function, device)\n",
    "    print(f\"Validation Loss: {eval_loss:.4f}, Validation Accuracy: {eval_accuracy:.4f}\")"
   ]
  },
  {
   "cell_type": "markdown",
   "metadata": {},
   "source": [
    "<div class=\"alert alert-block alert-info\">\n",
    "    \n",
    "<b> Exercise 3.9: </b>\n",
    "* Play with the training procedure to reach the best possible performance: add a learning rate scheduler, increase the training dataset size etc.\n",
    "</div>"
   ]
  }
 ],
 "metadata": {
  "kernelspec": {
   "display_name": "Python 3 (ipykernel)",
   "language": "python",
   "name": "python3"
  },
  "language_info": {
   "codemirror_mode": {
    "name": "ipython",
    "version": 3
   },
   "file_extension": ".py",
   "mimetype": "text/x-python",
   "name": "python",
   "nbconvert_exporter": "python",
   "pygments_lexer": "ipython3",
   "version": "3.10.18"
  }
 },
 "nbformat": 4,
 "nbformat_minor": 4
}
